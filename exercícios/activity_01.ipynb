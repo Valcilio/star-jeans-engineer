{
 "cells": [
  {
   "cell_type": "markdown",
   "id": "36dd3d85",
   "metadata": {},
   "source": [
    "# Modulo 03 - Exercícios Práticos"
   ]
  },
  {
   "cell_type": "markdown",
   "id": "b86d56c8",
   "metadata": {},
   "source": [
    "***2.1 CRISP***\n",
    "\n",
    "    **2.1.1. Leitura do Livro “Data Science Para Negócio”**\n",
    "\n",
    "        - Capítulo 02 - Problemas de Negócio e Solução de Data Science\n",
    "\n",
    "        - Leitura do PDF em anexo da revista \"Journal of DataWarehousing\"\n",
    "\n",
    "    **2.1.2. Entregável:**\n",
    "\n",
    "        - Escreve resumos do capítulo 02 sobre o método CRISP\n",
    "\n",
    "        - Anote suas dúvidas, questões, curiosidades para a Live de dúvidas.\n",
    "\n",
    "***2.2 Método SAPE***\n",
    "\n",
    "    **2.2.1. Usar o método SAPE para quebrar as seguintes perguntas de negócio:**\n",
    "\n",
    "        • Quantos tipos de calças e suas cores para o produto inicial?\n",
    "\n",
    "        • Quais as matérias-prima necessárias para confeccionar as calças?\n",
    "\n",
    "    **2.2.2. Entregável:**\n",
    "\n",
    "        - Faça um plano escrito para cada uma das perguntas de negócio, contendo:\n",
    "\n",
    "        - Saída: A simulação da tabela e gráfico final.\n",
    "\n",
    "        - Processo: A sequência de passos organizada pela lógica de execução\n",
    "\n",
    "        - Entrada: O link para as fontes de dados.\n",
    "\n",
    "***2.3 Modelo de Negócio***\n",
    "\n",
    "    **2.3.1. Leitura dos PDF’s em anexo:**\n",
    "\n",
    "        - Capítulo 04, 05, 06, 07, 08 do livro: Lean Analytics\n",
    "\n",
    "        - Ler o pdf em anexo sobre a definição do pensamento analítico pela universidade de Boston\n",
    "\n",
    "    **2.3.2. Entregável:**\n",
    "\n",
    "        - Escreve resumos de cada capítulo com os principais aprendizados.\n",
    "\n",
    "        - Anote suas dúvidas, questões, curiosidades para a Live de dúvidas."
   ]
  },
  {
   "cell_type": "markdown",
   "id": "f961c942",
   "metadata": {
    "heading_collapsed": true
   },
   "source": [
    "# 1.0. Planejamento da Solução (Método SAPE)"
   ]
  },
  {
   "cell_type": "markdown",
   "id": "91da5e6c",
   "metadata": {
    "heading_collapsed": true,
    "hidden": true
   },
   "source": [
    "## 1.1. Questão 1 (Tipos de Calças e Suas Cores)"
   ]
  },
  {
   "cell_type": "markdown",
   "id": "51bf2fbd",
   "metadata": {
    "heading_collapsed": true,
    "hidden": true
   },
   "source": [
    "### 1.1.1. Problema do Negócio"
   ]
  },
  {
   "cell_type": "markdown",
   "id": "d7112627",
   "metadata": {
    "hidden": true
   },
   "source": [
    "- Quantos tipos de calças e suas cores para o produto inicial?"
   ]
  },
  {
   "cell_type": "markdown",
   "id": "7bc2ad3d",
   "metadata": {
    "heading_collapsed": true,
    "hidden": true
   },
   "source": [
    "### 1.1.2. Saída: (Produto Final)"
   ]
  },
  {
   "cell_type": "markdown",
   "id": "b7a01b83",
   "metadata": {
    "hidden": true
   },
   "source": [
    "***1. A resposta para a pergunta***\n",
    "   \n",
    "   - selecionar os tipos de calças com cores com melhor custo benefícios.\n",
    "    \n",
    "***2. Formato da entrega***\n",
    "    \n",
    "   - Tabela ou gráfico.\n",
    "    \n",
    "***3. Local da entrega***\n",
    "    \n",
    "   - App Streamlit."
   ]
  },
  {
   "cell_type": "markdown",
   "id": "1baeeb4e",
   "metadata": {
    "heading_collapsed": true,
    "hidden": true
   },
   "source": [
    "### 1.1.3. Processo (Passo a Passo)"
   ]
  },
  {
   "cell_type": "markdown",
   "id": "2c7d117f",
   "metadata": {
    "hidden": true
   },
   "source": [
    "***1. Passo a passo para construir o cálculo do custo benefício.***\n",
    "\n",
    "   - Realizar a subtração do valor de venda menos o valor de produção por tipo-cor.\n",
    "    \n",
    "***2. Definir o formato da entrega (Visualização, Tabela, Frase):***\n",
    "\n",
    "   - Definição de gráfico de barras com o custo benefício de cada tipo-cor.\n",
    "   - Tabela com as seguintes colunas: id | product_name | type | product_color | cost | price | cost_benefit\n",
    "   - Definição do schema: colunas e seu tipo\n",
    "   - Definição da infraestrutura de armazenamento (SQLITE3)\n",
    "   - Design do ETL (scripts de extração, transformação e carga)\n",
    "   - Planejamento de agendamento dos scripts (dependências entre os scripts)\n",
    "   - Fazer as visualizações\n",
    "   - Entrega do produto final\n",
    "    \n",
    "***3. Decidir o local de entrega (PowerBI, Telegram, Email, Streamlit, Intranet)***\n",
    "    \n",
    "   - App com Streamlit"
   ]
  },
  {
   "cell_type": "markdown",
   "id": "5acc041a",
   "metadata": {
    "heading_collapsed": true,
    "hidden": true
   },
   "source": [
    "## 1.2. Questão 2 (Matérias Primas)"
   ]
  },
  {
   "cell_type": "markdown",
   "id": "6138f7dd",
   "metadata": {
    "heading_collapsed": true,
    "hidden": true
   },
   "source": [
    "### 1.1.1. Problema do Negócio"
   ]
  },
  {
   "cell_type": "markdown",
   "id": "bebbfadb",
   "metadata": {
    "hidden": true
   },
   "source": [
    "- Quais as matérias-prima necessárias para confeccionar as calças?"
   ]
  },
  {
   "cell_type": "markdown",
   "id": "6491accc",
   "metadata": {
    "heading_collapsed": true,
    "hidden": true
   },
   "source": [
    "### 1.1.2. Saída: (Produto Final)"
   ]
  },
  {
   "cell_type": "markdown",
   "id": "a63a5bbc",
   "metadata": {
    "hidden": true
   },
   "source": [
    "***1. A resposta para a pergunta***\n",
    "   \n",
    "   - realizar um estudo sobre as matérias primas necessárias na confecção das calças.\n",
    "    \n",
    "***2. Formato da entrega***\n",
    "    \n",
    "   - Tabela ou gráfico.\n",
    "    \n",
    "***3. Local da entrega***\n",
    "    \n",
    "   - App Streamlit."
   ]
  },
  {
   "cell_type": "markdown",
   "id": "4abd6c99",
   "metadata": {
    "heading_collapsed": true,
    "hidden": true
   },
   "source": [
    "### 1.1.3. Processo (Passo a Passo)"
   ]
  },
  {
   "cell_type": "markdown",
   "id": "e4d8c5c5",
   "metadata": {
    "hidden": true
   },
   "source": [
    "***1. Passo a passo para construir o cálculo do custo benefício.***\n",
    "\n",
    "   - Realizar a extração dos dados da fontes selecionadas.\n",
    "    \n",
    "***2. Definir o formato da entrega (Visualização, Tabela, Frase):***\n",
    "\n",
    "   - Tabela com as seguintes colunas: id | product_name | type | product_color | cost | price | cost_benefit\n",
    "   - Definição do schema: colunas e seu tipo\n",
    "   - Definição da infraestrutura de armazenamento (SQLITE3)\n",
    "   - Design do ETL (scripts de extração, transformação e carga)\n",
    "   - Planejamento de agendamento dos scripts (dependências entre os scripts)\n",
    "   - Fazer as visualizações\n",
    "   - Entrega do produto final\n",
    "    \n",
    "***3. Decidir o local de entrega (PowerBI, Telegram, Email, Streamlit, Intranet)***\n",
    "    \n",
    "   - App com Streamlit"
   ]
  },
  {
   "cell_type": "markdown",
   "id": "55428ed4",
   "metadata": {
    "heading_collapsed": true,
    "hidden": true
   },
   "source": [
    "## 1.3. Entrada (Fonte de Dados)"
   ]
  },
  {
   "cell_type": "markdown",
   "id": "d68af50e",
   "metadata": {
    "hidden": true
   },
   "source": [
    "***1. Fonte de dados***\n",
    "\n",
    "   - Site da H&M: https://www2.hm.com/en_us/men/products/jeans.html\n",
    "   - Site da Macys: https://www.macys.com/shop/mens-clothing/mens-jeans\n",
    "   \n",
    "***2. Ferramentas***\n",
    "\n",
    "- Python 3.9.4\n",
    "- Bibliotecas de Webscrapping ( BS4, Selenium )\n",
    "- PyCharm\n",
    "- Jupyter Notebook ( Analise e prototipagens )\n",
    "- Crontjob, Airflow\n",
    "- Streamlit"
   ]
  }
 ],
 "metadata": {
  "hide_input": false,
  "kernelspec": {
   "display_name": "Python 3",
   "language": "python",
   "name": "python3"
  },
  "language_info": {
   "codemirror_mode": {
    "name": "ipython",
    "version": 3
   },
   "file_extension": ".py",
   "mimetype": "text/x-python",
   "name": "python",
   "nbconvert_exporter": "python",
   "pygments_lexer": "ipython3",
   "version": "3.9.4"
  },
  "latex_envs": {
   "LaTeX_envs_menu_present": true,
   "autoclose": false,
   "autocomplete": true,
   "bibliofile": "biblio.bib",
   "cite_by": "apalike",
   "current_citInitial": 1,
   "eqLabelWithNumbers": true,
   "eqNumInitial": 1,
   "hotkeys": {
    "equation": "Ctrl-E",
    "itemize": "Ctrl-I"
   },
   "labels_anchors": false,
   "latex_user_defs": false,
   "report_style_numbering": false,
   "user_envs_cfg": false
  },
  "varInspector": {
   "cols": {
    "lenName": 16,
    "lenType": 16,
    "lenVar": 40
   },
   "kernels_config": {
    "python": {
     "delete_cmd_postfix": "",
     "delete_cmd_prefix": "del ",
     "library": "var_list.py",
     "varRefreshCmd": "print(var_dic_list())"
    },
    "r": {
     "delete_cmd_postfix": ") ",
     "delete_cmd_prefix": "rm(",
     "library": "var_list.r",
     "varRefreshCmd": "cat(var_dic_list()) "
    }
   },
   "types_to_exclude": [
    "module",
    "function",
    "builtin_function_or_method",
    "instance",
    "_Feature"
   ],
   "window_display": false
  }
 },
 "nbformat": 4,
 "nbformat_minor": 5
}
