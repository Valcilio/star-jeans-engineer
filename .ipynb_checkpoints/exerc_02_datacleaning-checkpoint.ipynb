{
 "cells": [
  {
   "cell_type": "markdown",
   "id": "022ca645",
   "metadata": {
    "heading_collapsed": true
   },
   "source": [
    "# Libraries"
   ]
  },
  {
   "cell_type": "code",
   "execution_count": 2,
   "id": "a7cbcb2d",
   "metadata": {
    "hidden": true
   },
   "outputs": [],
   "source": [
    "import requests\n",
    "import pandas as pd\n",
    "\n",
    "from datetime import datetime\n",
    "\n",
    "from bs4 import BeautifulSoup\n",
    "\n",
    "from sklearn.preprocessing import OrdinalEncoder"
   ]
  },
  {
   "cell_type": "markdown",
   "id": "f5b402c2",
   "metadata": {
    "heading_collapsed": true
   },
   "source": [
    "# Step 01 - 1.0. Extracting Data"
   ]
  },
  {
   "cell_type": "code",
   "execution_count": 7,
   "id": "c0ccf81c",
   "metadata": {
    "hidden": true
   },
   "outputs": [],
   "source": [
    "#creating empty dataframe\n",
    "df = pd.DataFrame()"
   ]
  },
  {
   "cell_type": "markdown",
   "id": "a2851512",
   "metadata": {
    "heading_collapsed": true,
    "hidden": true
   },
   "source": [
    "## 1.1. Classics"
   ]
  },
  {
   "cell_type": "code",
   "execution_count": 8,
   "id": "292ebbc2",
   "metadata": {
    "hidden": true
   },
   "outputs": [],
   "source": [
    "#defining the url\n",
    "url = 'https://books.toscrape.com/catalogue/category/books/classics_6/index.html'\n",
    "\n",
    "#defining the header\n",
    "headers = {'User-Agent': 'Mozilla/5.0 (Macintosh; Intel Mac OS X 10_11_5) AppleWebKit/537.36 (KHTML, like Gecko) Chrome/50.0.2661.102 Safari/537.36'}\n",
    "page = requests.get(url, headers=headers)"
   ]
  },
  {
   "cell_type": "code",
   "execution_count": 9,
   "id": "23c866f9",
   "metadata": {
    "hidden": true
   },
   "outputs": [],
   "source": [
    "#defining parser\n",
    "soup = BeautifulSoup(page.text, 'html.parser')"
   ]
  },
  {
   "cell_type": "code",
   "execution_count": 10,
   "id": "7590b5eb",
   "metadata": {
    "hidden": true
   },
   "outputs": [],
   "source": [
    "#selecting start class\n",
    "books = soup.find('ol', class_='row')"
   ]
  },
  {
   "cell_type": "markdown",
   "id": "75e86cfa",
   "metadata": {
    "heading_collapsed": true,
    "hidden": true
   },
   "source": [
    "### 1.1.1. Names"
   ]
  },
  {
   "cell_type": "code",
   "execution_count": 11,
   "id": "9a3725a4",
   "metadata": {
    "hidden": true
   },
   "outputs": [],
   "source": [
    "#creating name_list\n",
    "name_list = books.find_all('img', class_='thumbnail')\n",
    "\n",
    "#books_name\n",
    "books_name = [p.get('alt') for p in name_list]\n",
    "\n",
    "#joining to df\n",
    "df['titles'] = books_name"
   ]
  },
  {
   "cell_type": "markdown",
   "id": "70d749a9",
   "metadata": {
    "heading_collapsed": true,
    "hidden": true
   },
   "source": [
    "### 1.1.2. Prices"
   ]
  },
  {
   "cell_type": "code",
   "execution_count": 12,
   "id": "cb7b4528",
   "metadata": {
    "hidden": true
   },
   "outputs": [],
   "source": [
    "#creating price_list\n",
    "price_list = books.find_all('p', class_='price_color')\n",
    "\n",
    "#books_price\n",
    "books_price = [p.get_text() for p in price_list]\n",
    "\n",
    "#joining to df\n",
    "df['prices'] = books_price"
   ]
  },
  {
   "cell_type": "markdown",
   "id": "c98534cc",
   "metadata": {
    "heading_collapsed": true,
    "hidden": true
   },
   "source": [
    "### 1.1.3. Customers Avaliation"
   ]
  },
  {
   "cell_type": "code",
   "execution_count": 13,
   "id": "1e6374f6",
   "metadata": {
    "hidden": true
   },
   "outputs": [],
   "source": [
    "products = soup.find('div', class_ = 'col-sm-8 col-md-9')\n",
    "\n",
    "products_list = products.find_all('p', class_ = 'star-rating')\n",
    "\n",
    "#Costumers_Avaliable\n",
    "ca = [p.get('class') for p in products_list]\n",
    "\n",
    "df['avaliation'] = pd.DataFrame(ca).drop(0, axis=1)"
   ]
  },
  {
   "cell_type": "markdown",
   "id": "3e759266",
   "metadata": {
    "heading_collapsed": true,
    "hidden": true
   },
   "source": [
    "### 1.1.4. Stock Availability"
   ]
  },
  {
   "cell_type": "code",
   "execution_count": 14,
   "id": "eb3a3439",
   "metadata": {
    "hidden": true
   },
   "outputs": [],
   "source": [
    "#creating price_list\n",
    "availability_list = products.find_all('p', class_='instock availability')\n",
    "\n",
    "#books_price\n",
    "books_availability = [list(filter(None, p.get_text().split('\\n'))) for p in availability_list]\n",
    "\n",
    "#joining to df\n",
    "df['availability'] = (pd.DataFrame(books_availability)).drop([0, 2], axis=1)"
   ]
  },
  {
   "cell_type": "markdown",
   "id": "6291253f",
   "metadata": {
    "heading_collapsed": true,
    "hidden": true
   },
   "source": [
    "### 1.1.5. Classifying"
   ]
  },
  {
   "cell_type": "code",
   "execution_count": 15,
   "id": "f222d85a",
   "metadata": {
    "hidden": true,
    "scrolled": true
   },
   "outputs": [],
   "source": [
    "#generiting empty dataframe\n",
    "df1 = pd.DataFrame(columns=['0'])\n",
    "\n",
    "#copying and filling book_type column\n",
    "df['book_type'] = df1.copy()\n",
    "df = df.fillna('classic')"
   ]
  },
  {
   "cell_type": "markdown",
   "id": "a8a53ae1",
   "metadata": {
    "heading_collapsed": true,
    "hidden": true
   },
   "source": [
    "## 1.2. Science Fiction"
   ]
  },
  {
   "cell_type": "code",
   "execution_count": 16,
   "id": "e9977f5e",
   "metadata": {
    "hidden": true
   },
   "outputs": [],
   "source": [
    "#defining the url\n",
    "url = 'https://books.toscrape.com/catalogue/category/books/science-fiction_16/index.html'\n",
    "\n",
    "#defining the header\n",
    "headers = {'User-Agent': 'Mozilla/5.0 (Macintosh; Intel Mac OS X 10_11_5) AppleWebKit/537.36 (KHTML, like Gecko) Chrome/50.0.2661.102 Safari/537.36'}\n",
    "page = requests.get(url, headers=headers)"
   ]
  },
  {
   "cell_type": "code",
   "execution_count": 17,
   "id": "d634aa77",
   "metadata": {
    "hidden": true
   },
   "outputs": [],
   "source": [
    "#defining parser\n",
    "soup = BeautifulSoup(page.text, 'html.parser')"
   ]
  },
  {
   "cell_type": "code",
   "execution_count": 18,
   "id": "4ca4361f",
   "metadata": {
    "hidden": true
   },
   "outputs": [],
   "source": [
    "#selecting start class\n",
    "books = soup.find('ol', class_='row')"
   ]
  },
  {
   "cell_type": "code",
   "execution_count": 19,
   "id": "aef07f27",
   "metadata": {
    "hidden": true
   },
   "outputs": [],
   "source": [
    "#creating empty dataframe\n",
    "df1 = pd.DataFrame()"
   ]
  },
  {
   "cell_type": "markdown",
   "id": "f9d24a0e",
   "metadata": {
    "heading_collapsed": true,
    "hidden": true
   },
   "source": [
    "### 1.2.1. Names"
   ]
  },
  {
   "cell_type": "code",
   "execution_count": 20,
   "id": "e6156015",
   "metadata": {
    "hidden": true
   },
   "outputs": [],
   "source": [
    "#creating name_list\n",
    "name_list = books.find_all('img', class_='thumbnail')\n",
    "\n",
    "#books_name\n",
    "books_name = [p.get('alt') for p in name_list]\n",
    "\n",
    "#joining to df\n",
    "df1['titles'] = books_name"
   ]
  },
  {
   "cell_type": "markdown",
   "id": "46dd8552",
   "metadata": {
    "heading_collapsed": true,
    "hidden": true
   },
   "source": [
    "### 1.2.2. Prices"
   ]
  },
  {
   "cell_type": "code",
   "execution_count": 21,
   "id": "08717ba7",
   "metadata": {
    "hidden": true
   },
   "outputs": [],
   "source": [
    "#creating price_list\n",
    "price_list = books.find_all('p', class_='price_color')\n",
    "\n",
    "#books_price\n",
    "books_price = [p.get_text() for p in price_list]\n",
    "\n",
    "#joining to df\n",
    "df1['prices'] = books_price"
   ]
  },
  {
   "cell_type": "markdown",
   "id": "ff8b5190",
   "metadata": {
    "heading_collapsed": true,
    "hidden": true
   },
   "source": [
    "### 1.2.3. Customers Avaliation"
   ]
  },
  {
   "cell_type": "code",
   "execution_count": 22,
   "id": "ab06aa74",
   "metadata": {
    "hidden": true
   },
   "outputs": [],
   "source": [
    "products = soup.find('div', class_ = 'col-sm-8 col-md-9')\n",
    "\n",
    "products_list = products.find_all('p', class_ = 'star-rating')\n",
    "\n",
    "#Costumers_Avaliable\n",
    "ca = [p.get('class') for p in products_list]\n",
    "\n",
    "df1['avaliation'] = pd.DataFrame(ca).drop(0, axis=1)"
   ]
  },
  {
   "cell_type": "markdown",
   "id": "e1959a82",
   "metadata": {
    "heading_collapsed": true,
    "hidden": true
   },
   "source": [
    "### 1.2.4. Stock Availability"
   ]
  },
  {
   "cell_type": "code",
   "execution_count": 23,
   "id": "3cecf5db",
   "metadata": {
    "hidden": true
   },
   "outputs": [],
   "source": [
    "#creating price_list\n",
    "availability_list = products.find_all('p', class_='instock availability')\n",
    "\n",
    "#books_price\n",
    "books_availability = [list(filter(None, p.get_text().split('\\n'))) for p in availability_list]\n",
    "\n",
    "#joining to df\n",
    "df1['availability'] = (pd.DataFrame(books_availability)).drop([0, 2], axis=1)"
   ]
  },
  {
   "cell_type": "markdown",
   "id": "17e736e2",
   "metadata": {
    "heading_collapsed": true,
    "hidden": true
   },
   "source": [
    "### 1.2.5. Classifying"
   ]
  },
  {
   "cell_type": "code",
   "execution_count": 24,
   "id": "5d4fc500",
   "metadata": {
    "hidden": true
   },
   "outputs": [],
   "source": [
    "#generiting empty dataframe\n",
    "df2 = pd.DataFrame(columns=['book_type'])\n",
    "\n",
    "#copying and filling book_type column\n",
    "df1['book_type'] = df2.copy()\n",
    "df1['book_type'] = df1['book_type'].fillna('science_fiction')\n",
    "\n",
    "#merging with df\n",
    "df_final = pd.concat([df, df1], axis=0).reset_index().drop('index', axis=1)"
   ]
  },
  {
   "cell_type": "markdown",
   "id": "905cae26",
   "metadata": {
    "heading_collapsed": true,
    "hidden": true
   },
   "source": [
    "## 1.3. Humor"
   ]
  },
  {
   "cell_type": "code",
   "execution_count": 25,
   "id": "a84b165b",
   "metadata": {
    "hidden": true
   },
   "outputs": [],
   "source": [
    "#defining the url\n",
    "url = 'https://books.toscrape.com/catalogue/category/books/humor_30/index.html'\n",
    "\n",
    "#defining the header\n",
    "headers = {'User-Agent': 'Mozilla/5.0 (Macintosh; Intel Mac OS X 10_11_5) AppleWebKit/537.36 (KHTML, like Gecko) Chrome/50.0.2661.102 Safari/537.36'}\n",
    "page = requests.get(url, headers=headers)"
   ]
  },
  {
   "cell_type": "code",
   "execution_count": 26,
   "id": "b3cbe184",
   "metadata": {
    "hidden": true
   },
   "outputs": [],
   "source": [
    "#defining parser\n",
    "soup = BeautifulSoup(page.text, 'html.parser')"
   ]
  },
  {
   "cell_type": "code",
   "execution_count": 27,
   "id": "f56e15ea",
   "metadata": {
    "hidden": true
   },
   "outputs": [],
   "source": [
    "#selecting start class\n",
    "books = soup.find('ol', class_='row')"
   ]
  },
  {
   "cell_type": "code",
   "execution_count": 28,
   "id": "2e7c49c9",
   "metadata": {
    "hidden": true
   },
   "outputs": [],
   "source": [
    "#creating empty dataframe\n",
    "df2 = pd.DataFrame()"
   ]
  },
  {
   "cell_type": "markdown",
   "id": "ab9fc5e8",
   "metadata": {
    "heading_collapsed": true,
    "hidden": true
   },
   "source": [
    "### 1.3.1. Names"
   ]
  },
  {
   "cell_type": "code",
   "execution_count": 29,
   "id": "fe9b8186",
   "metadata": {
    "hidden": true
   },
   "outputs": [],
   "source": [
    "#creating name_list\n",
    "name_list = books.find_all('img', class_='thumbnail')\n",
    "\n",
    "#books_name\n",
    "books_name = [p.get('alt') for p in name_list]\n",
    "\n",
    "#joining to df\n",
    "df2['titles'] = books_name"
   ]
  },
  {
   "cell_type": "markdown",
   "id": "dc695da4",
   "metadata": {
    "heading_collapsed": true,
    "hidden": true
   },
   "source": [
    "### 1.3.2. Prices"
   ]
  },
  {
   "cell_type": "code",
   "execution_count": 30,
   "id": "ffb56512",
   "metadata": {
    "hidden": true
   },
   "outputs": [],
   "source": [
    "#creating price_list\n",
    "price_list = books.find_all('p', class_='price_color')\n",
    "\n",
    "#books_price\n",
    "books_price = [p.get_text() for p in price_list]\n",
    "\n",
    "#joining to df\n",
    "df2['prices'] = books_price"
   ]
  },
  {
   "cell_type": "markdown",
   "id": "590c18a9",
   "metadata": {
    "heading_collapsed": true,
    "hidden": true
   },
   "source": [
    "### 1.3.3. Customers Avaliation"
   ]
  },
  {
   "cell_type": "code",
   "execution_count": 31,
   "id": "ae397eba",
   "metadata": {
    "hidden": true
   },
   "outputs": [],
   "source": [
    "products = soup.find('div', class_ = 'col-sm-8 col-md-9')\n",
    "\n",
    "products_list = products.find_all('p', class_ = 'star-rating')\n",
    "\n",
    "#Costumers_Avaliable\n",
    "ca = [p.get('class') for p in products_list]\n",
    "\n",
    "df2['avaliation'] = pd.DataFrame(ca).drop(0, axis=1)"
   ]
  },
  {
   "cell_type": "markdown",
   "id": "7f7a3c58",
   "metadata": {
    "heading_collapsed": true,
    "hidden": true
   },
   "source": [
    "### 1.3.4. Stock Availability"
   ]
  },
  {
   "cell_type": "code",
   "execution_count": 32,
   "id": "827c0d9a",
   "metadata": {
    "hidden": true
   },
   "outputs": [],
   "source": [
    "#creating price_list\n",
    "availability_list = products.find_all('p', class_='instock availability')\n",
    "\n",
    "#books_price\n",
    "books_availability = [list(filter(None, p.get_text().split('\\n'))) for p in availability_list]\n",
    "\n",
    "#joining to df\n",
    "df2['availability'] = (pd.DataFrame(books_availability)).drop([0, 2], axis=1)"
   ]
  },
  {
   "cell_type": "markdown",
   "id": "9d306bda",
   "metadata": {
    "heading_collapsed": true,
    "hidden": true
   },
   "source": [
    "### 1.3.5. Classifying"
   ]
  },
  {
   "cell_type": "code",
   "execution_count": 33,
   "id": "5ad5620e",
   "metadata": {
    "hidden": true
   },
   "outputs": [],
   "source": [
    "#generiting empty dataframe\n",
    "df3 = pd.DataFrame(columns=['book_type'])\n",
    "\n",
    "#copying and filling book_type column\n",
    "df2['book_type'] = df3.copy()\n",
    "df2['book_type'] = df2['book_type'].fillna('humor')\n",
    "\n",
    "#merging with df\n",
    "df_final1 = pd.concat([df_final, df2], axis=0).reset_index().drop('index', axis=1)"
   ]
  },
  {
   "cell_type": "markdown",
   "id": "902346cf",
   "metadata": {
    "heading_collapsed": true,
    "hidden": true
   },
   "source": [
    "## 1.4. Business"
   ]
  },
  {
   "cell_type": "code",
   "execution_count": 34,
   "id": "e647c0e3",
   "metadata": {
    "hidden": true
   },
   "outputs": [],
   "source": [
    "#defining the url\n",
    "url = 'https://books.toscrape.com/catalogue/category/books/business_35/index.html'\n",
    "\n",
    "#defining the header\n",
    "headers = {'User-Agent': 'Mozilla/5.0 (Macintosh; Intel Mac OS X 10_11_5) AppleWebKit/537.36 (KHTML, like Gecko) Chrome/50.0.2661.102 Safari/537.36'}\n",
    "page = requests.get(url, headers=headers)"
   ]
  },
  {
   "cell_type": "code",
   "execution_count": 35,
   "id": "23c866f9",
   "metadata": {
    "hidden": true
   },
   "outputs": [],
   "source": [
    "#defining parser\n",
    "soup = BeautifulSoup(page.text, 'html.parser')"
   ]
  },
  {
   "cell_type": "code",
   "execution_count": 36,
   "id": "7590b5eb",
   "metadata": {
    "hidden": true
   },
   "outputs": [],
   "source": [
    "#selecting start class\n",
    "books = soup.find('ol', class_='row')"
   ]
  },
  {
   "cell_type": "code",
   "execution_count": 37,
   "id": "51b20189",
   "metadata": {
    "hidden": true
   },
   "outputs": [],
   "source": [
    "#creating empty dataframe\n",
    "df3 = pd.DataFrame()"
   ]
  },
  {
   "cell_type": "markdown",
   "id": "4b87aef6",
   "metadata": {
    "heading_collapsed": true,
    "hidden": true
   },
   "source": [
    "### 1.4.1. Name"
   ]
  },
  {
   "cell_type": "code",
   "execution_count": 38,
   "id": "d5e82fdc",
   "metadata": {
    "hidden": true
   },
   "outputs": [],
   "source": [
    "#creating name_list\n",
    "name_list = books.find_all('img', class_='thumbnail')\n",
    "\n",
    "#books_name\n",
    "books_name = [p.get('alt') for p in name_list]\n",
    "\n",
    "#joining to df\n",
    "df3['titles'] = books_name"
   ]
  },
  {
   "cell_type": "markdown",
   "id": "394e7cb2",
   "metadata": {
    "heading_collapsed": true,
    "hidden": true
   },
   "source": [
    "### 1.4.2. Prices"
   ]
  },
  {
   "cell_type": "code",
   "execution_count": 39,
   "id": "588171b8",
   "metadata": {
    "hidden": true
   },
   "outputs": [],
   "source": [
    "#creating price_list\n",
    "price_list = books.find_all('p', class_='price_color')\n",
    "\n",
    "#books_price\n",
    "books_price = [p.get_text() for p in price_list]\n",
    "\n",
    "#joining to df\n",
    "df3['prices'] = books_price"
   ]
  },
  {
   "cell_type": "markdown",
   "id": "79dd1c6e",
   "metadata": {
    "heading_collapsed": true,
    "hidden": true
   },
   "source": [
    "### 1.4.3. Customers Avaliation"
   ]
  },
  {
   "cell_type": "code",
   "execution_count": 40,
   "id": "7dbb3a49",
   "metadata": {
    "hidden": true
   },
   "outputs": [],
   "source": [
    "products = soup.find('div', class_ = 'col-sm-8 col-md-9')\n",
    "\n",
    "products_list = products.find_all('p', class_ = 'star-rating')\n",
    "\n",
    "#Costumers_Avaliable\n",
    "ca = [p.get('class') for p in products_list]\n",
    "\n",
    "df3['avaliation'] = pd.DataFrame(ca).drop(0, axis=1)"
   ]
  },
  {
   "cell_type": "markdown",
   "id": "95ebfdef",
   "metadata": {
    "heading_collapsed": true,
    "hidden": true
   },
   "source": [
    "### 1.4.4. Stock Availability"
   ]
  },
  {
   "cell_type": "code",
   "execution_count": 41,
   "id": "7d2a2906",
   "metadata": {
    "hidden": true
   },
   "outputs": [],
   "source": [
    "#creating price_list\n",
    "availability_list = products.find_all('p', class_='instock availability')\n",
    "\n",
    "#books_price\n",
    "books_availability = [list(filter(None, p.get_text().split('\\n'))) for p in availability_list]\n",
    "\n",
    "#joining to df\n",
    "df3['availability'] = (pd.DataFrame(books_availability)).drop([0, 2], axis=1)"
   ]
  },
  {
   "cell_type": "markdown",
   "id": "f27888b5",
   "metadata": {
    "heading_collapsed": true,
    "hidden": true
   },
   "source": [
    "### 1.4.5. Classifying"
   ]
  },
  {
   "cell_type": "code",
   "execution_count": 42,
   "id": "0a9bd062",
   "metadata": {
    "hidden": true
   },
   "outputs": [],
   "source": [
    "#generiting empty dataframe\n",
    "df4 = pd.DataFrame(columns=['book_type'])\n",
    "\n",
    "#copying and filling book_type column\n",
    "df3['book_type'] = df4.copy()\n",
    "df3['book_type'] = df3['book_type'].fillna('business')\n",
    "\n",
    "#merging with df\n",
    "df_final2 = pd.concat([df_final1, df3], axis=0).reset_index().drop('index', axis=1)"
   ]
  },
  {
   "cell_type": "markdown",
   "id": "8a169f8a",
   "metadata": {
    "heading_collapsed": true
   },
   "source": [
    "# Step 02 - 2.0. Delivarables"
   ]
  },
  {
   "cell_type": "markdown",
   "id": "7aa5ed58",
   "metadata": {
    "heading_collapsed": true,
    "hidden": true
   },
   "source": [
    "## 2.1. Links of Extractions"
   ]
  },
  {
   "cell_type": "markdown",
   "id": "ee89d6cd",
   "metadata": {
    "hidden": true
   },
   "source": [
    "These links was used to the data extractions:\n",
    "\n",
    "classics: https://books.toscrape.com/catalogue/category/books/classics_6/index.html\n",
    "\n",
    "Science Fiction: https://books.toscrape.com/catalogue/category/books/science-fiction_16/index.html\n",
    "\n",
    "Humor: https://books.toscrape.com/catalogue/category/books/humor_30/index.html\n",
    "\n",
    "Business: https://books.toscrape.com/catalogue/category/books/business_35/index.html"
   ]
  },
  {
   "cell_type": "markdown",
   "id": "c1bcc153",
   "metadata": {
    "heading_collapsed": true,
    "hidden": true
   },
   "source": [
    "## 2.1. Saving to CSV"
   ]
  },
  {
   "cell_type": "code",
   "execution_count": 43,
   "id": "acb45bdc",
   "metadata": {
    "hidden": true
   },
   "outputs": [],
   "source": [
    "# saving to csv\n",
    "df_final2.to_csv('df_books_extracted.csv', index=False)"
   ]
  },
  {
   "cell_type": "markdown",
   "id": "f067e902",
   "metadata": {},
   "source": [
    "# Step 3.0. Data Cleaning"
   ]
  },
  {
   "cell_type": "code",
   "execution_count": 12,
   "id": "458f4877",
   "metadata": {},
   "outputs": [],
   "source": [
    "#loading data\n",
    "df = pd.read_csv('df_books_extracted.csv')\n",
    "\n",
    "#changing titles to snakecase\n",
    "df['titles'] = df['titles'].apply(lambda x: x.replace(' ', '_').lower())\n",
    "\n",
    "#changing availability to snakecase\n",
    "df['availability'] = df['availability'].apply(lambda x: x.strip().replace(' ', '_').lower())\n",
    "\n",
    "#changing avaliation strings to intergers\n",
    "enc_dict = {'One':1, 'Two':2, 'Three':3, 'Four':4, 'Five':5}\n",
    "df['avaliation'] = df['avaliation'].map(enc_dict)\n",
    "\n",
    "#cleaning prices\n",
    "df['prices'] = df['prices'].apply(lambda x: x.replace('Â£', ''))\n",
    "\n",
    "#creating scrapy time column\n",
    "df['scrapy_datetime'] = datetime.now().strftime('%Y-%m-%d %H:%M:%S')\n",
    "df['scrapy_datetime'] = pd.to_datetime(df['scrapy_datetime'])"
   ]
  },
  {
   "cell_type": "code",
   "execution_count": 14,
   "id": "0fab56d4",
   "metadata": {},
   "outputs": [],
   "source": [
    "df.to_csv('df_cleaned', index=False)"
   ]
  },
  {
   "cell_type": "code",
   "execution_count": null,
   "id": "d73c4e12",
   "metadata": {},
   "outputs": [],
   "source": []
  },
  {
   "cell_type": "code",
   "execution_count": null,
   "id": "fa36f4fc",
   "metadata": {},
   "outputs": [],
   "source": []
  }
 ],
 "metadata": {
  "hide_input": false,
  "kernelspec": {
   "display_name": "Python 3",
   "language": "python",
   "name": "python3"
  },
  "language_info": {
   "codemirror_mode": {
    "name": "ipython",
    "version": 3
   },
   "file_extension": ".py",
   "mimetype": "text/x-python",
   "name": "python",
   "nbconvert_exporter": "python",
   "pygments_lexer": "ipython3",
   "version": "3.9.4"
  },
  "latex_envs": {
   "LaTeX_envs_menu_present": true,
   "autoclose": false,
   "autocomplete": true,
   "bibliofile": "biblio.bib",
   "cite_by": "apalike",
   "current_citInitial": 1,
   "eqLabelWithNumbers": true,
   "eqNumInitial": 1,
   "hotkeys": {
    "equation": "Ctrl-E",
    "itemize": "Ctrl-I"
   },
   "labels_anchors": false,
   "latex_user_defs": false,
   "report_style_numbering": false,
   "user_envs_cfg": false
  },
  "varInspector": {
   "cols": {
    "lenName": 16,
    "lenType": 16,
    "lenVar": 40
   },
   "kernels_config": {
    "python": {
     "delete_cmd_postfix": "",
     "delete_cmd_prefix": "del ",
     "library": "var_list.py",
     "varRefreshCmd": "print(var_dic_list())"
    },
    "r": {
     "delete_cmd_postfix": ") ",
     "delete_cmd_prefix": "rm(",
     "library": "var_list.r",
     "varRefreshCmd": "cat(var_dic_list()) "
    }
   },
   "types_to_exclude": [
    "module",
    "function",
    "builtin_function_or_method",
    "instance",
    "_Feature"
   ],
   "window_display": false
  }
 },
 "nbformat": 4,
 "nbformat_minor": 5
}
