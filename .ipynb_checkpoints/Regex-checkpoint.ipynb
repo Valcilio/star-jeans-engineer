{
 "cells": [
  {
   "cell_type": "markdown",
   "id": "7d904181",
   "metadata": {},
   "source": [
    "# Libraries"
   ]
  },
  {
   "cell_type": "code",
   "execution_count": 2,
   "id": "e2cfce8c",
   "metadata": {},
   "outputs": [],
   "source": [
    "import re"
   ]
  },
  {
   "cell_type": "markdown",
   "id": "edd9db3f",
   "metadata": {},
   "source": [
    "# Explaining Regex"
   ]
  },
  {
   "cell_type": "markdown",
   "id": "a8e4c0f8",
   "metadata": {},
   "source": [
    " - Mascaras para acomodar strings dentro de um texto"
   ]
  },
  {
   "cell_type": "code",
   "execution_count": 31,
   "id": "c6beeeef",
   "metadata": {},
   "outputs": [],
   "source": [
    "text00 = '134.745.735-42'\n",
    "text01 = 'Rua Armando Shibata, 97 - Vila Leopolding, São Paulo'\n",
    "text02 = 'Av. dos trabalhadores, 403 - Centro, Mogi Guaçu'\n",
    "text03 = 'Al. Moraes, 90 - Vila Golmes, Pernambuco'\n",
    "\n",
    "text = [text01, text02, text03]\n",
    "\n",
    "# Nome da Rua\n",
    "# Numero da Residencia\n",
    "# Nome do Bairro\n",
    "# Nome da Cidade"
   ]
  },
  {
   "cell_type": "markdown",
   "id": "60a4d211",
   "metadata": {},
   "source": [
    "## Função Match"
   ]
  },
  {
   "cell_type": "markdown",
   "id": "d48163cd",
   "metadata": {},
   "source": [
    "- Valida se um string contém determinado padrão, porém o \"match\" encontra somente o início da string"
   ]
  },
  {
   "cell_type": "code",
   "execution_count": 30,
   "id": "3cb6a770",
   "metadata": {},
   "outputs": [
    {
     "name": "stdout",
     "output_type": "stream",
     "text": [
      "Rua Armando Shibata\n",
      "Av. dos trabalhadores\n",
      "Al. Moraes\n"
     ]
    }
   ],
   "source": [
    "# Nome da rua\n",
    "regex = '(.+?),'\n",
    "\n",
    "for t in text: \n",
    "    print(re.match(regex, t).group(1))"
   ]
  },
  {
   "cell_type": "code",
   "execution_count": 32,
   "id": "ec2ea0eb",
   "metadata": {},
   "outputs": [
    {
     "name": "stdout",
     "output_type": "stream",
     "text": [
      "97\n",
      "403\n",
      "90\n"
     ]
    }
   ],
   "source": [
    "# Numero da residência\n",
    "regex = '\\d+'\n",
    "\n",
    "for t in text:\n",
    "    print(re.search(regex, t).group(0))"
   ]
  },
  {
   "cell_type": "code",
   "execution_count": 33,
   "id": "a98d0dca",
   "metadata": {},
   "outputs": [
    {
     "name": "stdout",
     "output_type": "stream",
     "text": [
      " Vila Leopolding\n",
      " Centro\n",
      " Vila Golmes\n"
     ]
    }
   ],
   "source": [
    "# Nome do Bairro\n",
    "regex = \"-(.+),\"\n",
    "\n",
    "for t in text:\n",
    "    print(re.search(regex, t).group(1))"
   ]
  },
  {
   "cell_type": "code",
   "execution_count": 34,
   "id": "b74dc0ba",
   "metadata": {},
   "outputs": [
    {
     "name": "stdout",
     "output_type": "stream",
     "text": [
      " São Paulo\n",
      " Mogi Guaçu\n",
      " Pernambuco\n"
     ]
    }
   ],
   "source": [
    "# Nome da Cidade\n",
    "regex = ',(.[a-zA-Z].+)'\n",
    "\n",
    "for t in text:\n",
    "    print(re.search(regex, t).group(1))"
   ]
  },
  {
   "cell_type": "code",
   "execution_count": null,
   "id": "31fe52f7",
   "metadata": {},
   "outputs": [],
   "source": []
  },
  {
   "cell_type": "code",
   "execution_count": null,
   "id": "dfe56ea1",
   "metadata": {},
   "outputs": [],
   "source": []
  },
  {
   "cell_type": "code",
   "execution_count": null,
   "id": "4ed8a506",
   "metadata": {},
   "outputs": [],
   "source": []
  },
  {
   "cell_type": "markdown",
   "id": "afaa5695",
   "metadata": {},
   "source": [
    "# Applying Regex"
   ]
  },
  {
   "cell_type": "code",
   "execution_count": null,
   "id": "12bb57ca",
   "metadata": {},
   "outputs": [],
   "source": []
  },
  {
   "cell_type": "code",
   "execution_count": null,
   "id": "4d5ebaa7",
   "metadata": {},
   "outputs": [],
   "source": []
  },
  {
   "cell_type": "code",
   "execution_count": null,
   "id": "ea8c4157",
   "metadata": {},
   "outputs": [],
   "source": []
  },
  {
   "cell_type": "code",
   "execution_count": null,
   "id": "0a44953c",
   "metadata": {},
   "outputs": [],
   "source": []
  }
 ],
 "metadata": {
  "hide_input": false,
  "kernelspec": {
   "display_name": "Python 3",
   "language": "python",
   "name": "python3"
  },
  "language_info": {
   "codemirror_mode": {
    "name": "ipython",
    "version": 3
   },
   "file_extension": ".py",
   "mimetype": "text/x-python",
   "name": "python",
   "nbconvert_exporter": "python",
   "pygments_lexer": "ipython3",
   "version": "3.9.4"
  },
  "latex_envs": {
   "LaTeX_envs_menu_present": true,
   "autoclose": false,
   "autocomplete": true,
   "bibliofile": "biblio.bib",
   "cite_by": "apalike",
   "current_citInitial": 1,
   "eqLabelWithNumbers": true,
   "eqNumInitial": 1,
   "hotkeys": {
    "equation": "Ctrl-E",
    "itemize": "Ctrl-I"
   },
   "labels_anchors": false,
   "latex_user_defs": false,
   "report_style_numbering": false,
   "user_envs_cfg": false
  },
  "varInspector": {
   "cols": {
    "lenName": 16,
    "lenType": 16,
    "lenVar": 40
   },
   "kernels_config": {
    "python": {
     "delete_cmd_postfix": "",
     "delete_cmd_prefix": "del ",
     "library": "var_list.py",
     "varRefreshCmd": "print(var_dic_list())"
    },
    "r": {
     "delete_cmd_postfix": ") ",
     "delete_cmd_prefix": "rm(",
     "library": "var_list.r",
     "varRefreshCmd": "cat(var_dic_list()) "
    }
   },
   "types_to_exclude": [
    "module",
    "function",
    "builtin_function_or_method",
    "instance",
    "_Feature"
   ],
   "window_display": false
  }
 },
 "nbformat": 4,
 "nbformat_minor": 5
}
