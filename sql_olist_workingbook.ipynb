{
 "cells": [
  {
   "cell_type": "markdown",
   "id": "ae35260a",
   "metadata": {
    "heading_collapsed": true
   },
   "source": [
    "# Imports"
   ]
  },
  {
   "cell_type": "code",
   "execution_count": 1,
   "id": "c612a4e3",
   "metadata": {
    "ExecuteTime": {
     "end_time": "2021-10-26T00:47:02.980996Z",
     "start_time": "2021-10-26T00:47:02.706641Z"
    },
    "hidden": true
   },
   "outputs": [],
   "source": [
    "# manipulação de dados\n",
    "import pandas as pd\n",
    "\n",
    "# banco de dados\n",
    "import sqlite3\n",
    "from sqlalchemy import create_engine"
   ]
  },
  {
   "cell_type": "markdown",
   "id": "9c0fc062",
   "metadata": {
    "heading_collapsed": true
   },
   "source": [
    "# 1.0. Connect to Database"
   ]
  },
  {
   "cell_type": "code",
   "execution_count": 2,
   "id": "97182592",
   "metadata": {
    "ExecuteTime": {
     "end_time": "2021-10-26T00:47:05.423335Z",
     "start_time": "2021-10-26T00:47:05.391401Z"
    },
    "hidden": true
   },
   "outputs": [],
   "source": [
    "# criando e conectando ao banco de dados\n",
    "db = create_engine('sqlite:///database/db_olist.sqlite', echo=False)\n",
    "conn = db.connect()"
   ]
  },
  {
   "cell_type": "markdown",
   "id": "31b88e88",
   "metadata": {
    "ExecuteTime": {
     "end_time": "2021-10-25T23:42:28.251937Z",
     "start_time": "2021-10-25T23:42:28.240527Z"
    },
    "heading_collapsed": true
   },
   "source": [
    "# 2.0. Loading Dataset"
   ]
  },
  {
   "cell_type": "markdown",
   "id": "2404e860",
   "metadata": {
    "heading_collapsed": true,
    "hidden": true
   },
   "source": [
    "## 2.1. Subindo Dados no SQL"
   ]
  },
  {
   "cell_type": "code",
   "execution_count": 3,
   "id": "50049169",
   "metadata": {
    "ExecuteTime": {
     "end_time": "2021-10-26T00:47:09.991444Z",
     "start_time": "2021-10-26T00:47:09.211533Z"
    },
    "hidden": true
   },
   "outputs": [],
   "source": [
    "# carregando dados (customer)\n",
    "df_customer = pd.read_csv('data_olist/olist_customers_dataset.csv')\n",
    "\n",
    "# criando query de schema\n",
    "schema_customer = \"\"\"\n",
    "CREATE TABLE customer(\n",
    "    customer_id                 TEXT,\n",
    "    customer_unique_id          TEXT,\n",
    "    customer_zip_code_prefix    INTEGER,\n",
    "    customer_city               TEXT,\n",
    "    customer_state              TEXT\n",
    ")\n",
    "\"\"\"\n",
    "\n",
    "# criando schema\n",
    "#conn.execute(schema_customer)\n",
    "\n",
    "# inserindo os dados no schema\n",
    "df_customer.to_sql('customer', con=conn, if_exists='append', index=False)"
   ]
  },
  {
   "cell_type": "code",
   "execution_count": 4,
   "id": "48284aac",
   "metadata": {
    "ExecuteTime": {
     "end_time": "2021-10-26T00:47:15.889064Z",
     "start_time": "2021-10-26T00:47:10.127384Z"
    },
    "hidden": true
   },
   "outputs": [],
   "source": [
    "# carregando dados (geolocation)\n",
    "df_geolocation = pd.read_csv('data_olist/olist_geolocation_dataset.csv')\n",
    "\n",
    "# criando query de schema\n",
    "schema_geolocation = \"\"\"\n",
    "CREATE TABLE geolocation(\n",
    "    geolocation_zip_code_prefix      INTEGER,\n",
    "    geolocation_lat                     REAL,\n",
    "    geolocation_lng                     REAL,\n",
    "    geolocation_city                    TEXT,\n",
    "    geolocation_state                   TEXT\n",
    ")\n",
    "\"\"\"\n",
    "\n",
    "# criando schema\n",
    "#conn.execute(schema_geolocation)\n",
    "\n",
    "# inserindo os dados no schema\n",
    "df_geolocation.to_sql('geolocation', con=conn, if_exists='append', index=False)"
   ]
  },
  {
   "cell_type": "code",
   "execution_count": 5,
   "id": "5117751b",
   "metadata": {
    "ExecuteTime": {
     "end_time": "2021-10-26T00:47:16.915274Z",
     "start_time": "2021-10-26T00:47:15.927671Z"
    },
    "hidden": true
   },
   "outputs": [],
   "source": [
    "# carregando dados (order items)\n",
    "df_order_items = pd.read_csv('data_olist/olist_order_items_dataset.csv')\n",
    "\n",
    "# criando query de schema\n",
    "schema_order_items = \"\"\"\n",
    "CREATE TABLE order_items(\n",
    "    order_id                TEXT,\n",
    "    order_item_id           REAL,\n",
    "    product_id              TEXT,\n",
    "    seller_id               TEXT,\n",
    "    shipping_limit_date     TEXT,\n",
    "    price                   REAL,\n",
    "    freight_value           REAL\n",
    ")\n",
    "\"\"\"\n",
    "\n",
    "# criando schema\n",
    "#conn.execute(schema_order_items)\n",
    "\n",
    "# inserindo os dados no schema\n",
    "df_order_items.to_sql('order_items', con=conn, if_exists='append', index=False)"
   ]
  },
  {
   "cell_type": "code",
   "execution_count": 6,
   "id": "1d749824",
   "metadata": {
    "ExecuteTime": {
     "end_time": "2021-10-26T00:47:17.610028Z",
     "start_time": "2021-10-26T00:47:16.987988Z"
    },
    "hidden": true
   },
   "outputs": [],
   "source": [
    "# carregando dados (order payments)\n",
    "df_order_payments = pd.read_csv('data_olist/olist_order_payments_dataset.csv')\n",
    "\n",
    "# criando query de schema\n",
    "schema_order_payments = \"\"\"\n",
    "CREATE TABLE order_payment(\n",
    "    order_id                 TEXT,\n",
    "    payment_sequential       INTEGER,\n",
    "    payment_type             TEXT,\n",
    "    payment_installments     INTEGER,\n",
    "    payment_value            REAL\n",
    ")\n",
    "\"\"\"\n",
    "\n",
    "# criando schema\n",
    "#conn.execute(schema_order_payments)\n",
    "\n",
    "# inserindo os dados no schema\n",
    "df_order_payments.to_sql('order_payment', con=conn, if_exists='append', index=False)"
   ]
  },
  {
   "cell_type": "code",
   "execution_count": 7,
   "id": "3cb31e1a",
   "metadata": {
    "ExecuteTime": {
     "end_time": "2021-10-26T00:47:18.826648Z",
     "start_time": "2021-10-26T00:47:17.682330Z"
    },
    "hidden": true
   },
   "outputs": [],
   "source": [
    "# carregando dados (order reviews)\n",
    "df_order_reviews = pd.read_csv('data_olist/olist_order_reviews_dataset.csv')\n",
    "\n",
    "# criando query de schema\n",
    "schema_order_reviews = \"\"\"\n",
    "CREATE TABLE order_reviews(\n",
    "    review_id                  TEXT,\n",
    "    order_id                   TEXT,\n",
    "    review_score               INTEGER,\n",
    "    review_comment_title       TEXT,\n",
    "    review_comment_message     TEXT,\n",
    "    review_creation_date       TEXT,\n",
    "    review_answer_timestamp    TEXT\n",
    ")\n",
    "\"\"\"\n",
    "\n",
    "# criando schema\n",
    "#conn.execute(schema_order_reviews)\n",
    "\n",
    "# inserindo os dados no schema\n",
    "df_order_reviews.to_sql('order_reviews', con=conn, if_exists='append', index=False)"
   ]
  },
  {
   "cell_type": "code",
   "execution_count": 8,
   "id": "a5b02c63",
   "metadata": {
    "ExecuteTime": {
     "end_time": "2021-10-26T00:47:20.147070Z",
     "start_time": "2021-10-26T00:47:18.920978Z"
    },
    "hidden": true
   },
   "outputs": [],
   "source": [
    "# carregando dados (order reviews)\n",
    "df_orders = pd.read_csv('data_olist/olist_orders_dataset.csv')\n",
    "\n",
    "# criando query de schema\n",
    "schema_orders = \"\"\"\n",
    "CREATE TABLE orders(\n",
    "    order_id                         TEXT,\n",
    "    customer_id                      TEXT,\n",
    "    order_status                     TEXT,\n",
    "    order_purchase_timestamp         TEXT,\n",
    "    order_approved_at                TEXT,\n",
    "    order_delivered_carrier_date     TEXT,\n",
    "    order_delivered_customer_date    TEXT,\n",
    "    order_estimated_delivery_date    TEXT\n",
    ")\n",
    "\"\"\"\n",
    "\n",
    "# criando schema\n",
    "#conn.execute(schema_orders)\n",
    "\n",
    "# inserindo os dados no schema\n",
    "df_orders.to_sql('orders', con=conn, if_exists='append', index=False)"
   ]
  },
  {
   "cell_type": "code",
   "execution_count": 9,
   "id": "428214cd",
   "metadata": {
    "ExecuteTime": {
     "end_time": "2021-10-26T00:47:20.581356Z",
     "start_time": "2021-10-26T00:47:20.267938Z"
    },
    "hidden": true
   },
   "outputs": [],
   "source": [
    "# carregando dados (order reviews)\n",
    "df_products = pd.read_csv('data_olist/olist_products_dataset.csv')\n",
    "\n",
    "# criando query de schema\n",
    "schema_products = \"\"\"\n",
    "CREATE TABLE products(\n",
    "    product_id                     TEXT,\n",
    "    product_category_name          TEXT,\n",
    "    product_name_lenght            REAL,\n",
    "    product_description_lenght     REAL,\n",
    "    product_photos_qty             REAL,\n",
    "    product_weight_g               REAL,\n",
    "    product_length_cm              REAL,\n",
    "    product_height_cm              REAL,\n",
    "    product_width_cm               REAL\n",
    ")\n",
    "\"\"\"\n",
    "\n",
    "# criando schema\n",
    "#conn.execute(schema_products)\n",
    "\n",
    "# inserindo os dados no schema\n",
    "df_products.to_sql('products', con=conn, if_exists='append', index=False)"
   ]
  },
  {
   "cell_type": "code",
   "execution_count": 10,
   "id": "e7158ef8",
   "metadata": {
    "ExecuteTime": {
     "end_time": "2021-10-26T00:47:20.741484Z",
     "start_time": "2021-10-26T00:47:20.702370Z"
    },
    "hidden": true
   },
   "outputs": [],
   "source": [
    "# carregando dados (sellers)\n",
    "df_sellers = pd.read_csv('data_olist/olist_sellers_dataset.csv')\n",
    "\n",
    "# criando query de schema\n",
    "schema_sellers = \"\"\"\n",
    "CREATE TABLE sellers(\n",
    "    seller_id                 TEXT,\n",
    "    seller_zip_code_prefix    INTEGER,\n",
    "    seller_city               INTEGER,\n",
    "    seller_state              TEXT\n",
    ")\n",
    "\"\"\"\n",
    "\n",
    "# criando schema\n",
    "#conn.execute(schema_sellers)\n",
    "\n",
    "# inserindo os dados no schema\n",
    "df_sellers.to_sql('sellers', con=conn, if_exists='append', index=False)"
   ]
  },
  {
   "cell_type": "code",
   "execution_count": 11,
   "id": "68077042",
   "metadata": {
    "ExecuteTime": {
     "end_time": "2021-10-26T00:47:43.308546Z",
     "start_time": "2021-10-26T00:47:43.281430Z"
    },
    "hidden": true
   },
   "outputs": [],
   "source": [
    "# carregando dados (sellers)\n",
    "df_product_category = pd.read_csv('data_olist/product_category_name_translation.csv')\n",
    "\n",
    "# criando query de schema\n",
    "schema_product_category = \"\"\"\n",
    "CREATE TABLE product_category(\n",
    "    product_category_name            TEXT,\n",
    "    product_category_name_english    TEXT\n",
    ")\n",
    "\"\"\"\n",
    "\n",
    "# criando schema\n",
    "#conn.execute(schema_product_category)\n",
    "\n",
    "# inserindo os dados no schema\n",
    "df_product_category.to_sql('product_category', con=conn, if_exists='append', index=False)"
   ]
  }
 ],
 "metadata": {
  "hide_input": false,
  "kernelspec": {
   "display_name": "Python 3",
   "language": "python",
   "name": "python3"
  },
  "language_info": {
   "codemirror_mode": {
    "name": "ipython",
    "version": 3
   },
   "file_extension": ".py",
   "mimetype": "text/x-python",
   "name": "python",
   "nbconvert_exporter": "python",
   "pygments_lexer": "ipython3",
   "version": "3.9.4"
  },
  "latex_envs": {
   "LaTeX_envs_menu_present": true,
   "autoclose": false,
   "autocomplete": true,
   "bibliofile": "biblio.bib",
   "cite_by": "apalike",
   "current_citInitial": 1,
   "eqLabelWithNumbers": true,
   "eqNumInitial": 1,
   "hotkeys": {
    "equation": "Ctrl-E",
    "itemize": "Ctrl-I"
   },
   "labels_anchors": false,
   "latex_user_defs": false,
   "report_style_numbering": false,
   "user_envs_cfg": false
  },
  "varInspector": {
   "cols": {
    "lenName": 16,
    "lenType": 16,
    "lenVar": 40
   },
   "kernels_config": {
    "python": {
     "delete_cmd_postfix": "",
     "delete_cmd_prefix": "del ",
     "library": "var_list.py",
     "varRefreshCmd": "print(var_dic_list())"
    },
    "r": {
     "delete_cmd_postfix": ") ",
     "delete_cmd_prefix": "rm(",
     "library": "var_list.r",
     "varRefreshCmd": "cat(var_dic_list()) "
    }
   },
   "types_to_exclude": [
    "module",
    "function",
    "builtin_function_or_method",
    "instance",
    "_Feature"
   ],
   "window_display": false
  }
 },
 "nbformat": 4,
 "nbformat_minor": 5
}
